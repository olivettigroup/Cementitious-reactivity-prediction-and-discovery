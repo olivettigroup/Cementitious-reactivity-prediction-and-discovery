{
 "cells": [
  {
   "cell_type": "code",
   "execution_count": 3,
   "id": "fbc3b072",
   "metadata": {},
   "outputs": [],
   "source": [
    "import os\n",
    "from pymongo import MongoClient\n",
    "import pymongo\n",
    "from tqdm import tqdm\n",
    "import re\n",
    "import pickle\n",
    "import json\n",
    "import torch\n",
    "from nltk.tokenize import sent_tokenize\n",
    "\n",
    "from langchain.docstore.document import Document\n",
    "from langchain.chains.query_constructor.schema import AttributeInfo\n",
    "from langchain.embeddings import SentenceTransformerEmbeddings\n",
    "\n",
    "\n",
    "from sentence_transformers import SentenceTransformer\n",
    "from transformers import AutoModel, AutoTokenizer\n",
    "from langchain.vectorstores import Chroma\n",
    "import json\n",
    "from bson import ObjectId\n"
   ]
  },
  {
   "cell_type": "code",
   "execution_count": 4,
   "id": "0c2d8f47",
   "metadata": {},
   "outputs": [],
   "source": [
    "def json_serialize(obj):\n",
    "    \"\"\"\n",
    "    JSON serializer for objects not serializable by default json code\n",
    "    \"\"\"\n",
    "    if isinstance(obj, ObjectId):\n",
    "        return str(obj)\n",
    "    raise TypeError (\"Type %s not serializable\" % type(obj))\n",
    "    \n",
    "def json_deserialize(obj):\n",
    "    # Implement deserialization if needed, e.g., converting string back to datetime\n",
    "    return obj"
   ]
  },
  {
   "cell_type": "code",
   "execution_count": 5,
   "id": "c51e1647",
   "metadata": {},
   "outputs": [],
   "source": [
    "with open('filtered_records.json', 'r') as file:\n",
    "    filtered_records = json.load(file, object_hook=json_deserialize)"
   ]
  },
  {
   "cell_type": "code",
   "execution_count": 7,
   "id": "5e444acb",
   "metadata": {},
   "outputs": [],
   "source": [
    "def process_dataset(records):\n",
    "    all_documents = []\n",
    "    seen_page_contents = set()  # To track duplicates\n",
    "\n",
    "    for record in tqdm(records, desc=\"Filtering records\"):\n",
    "        # Exclude titles and records with 'review' or 'survey' in title\n",
    "        if isinstance(record.get('title', ''), str):\n",
    "            title = record.get('title', '').lower()\n",
    "            if 'review' in title or 'survey' in title:\n",
    "                continue\n",
    "\n",
    "        # Process abstract\n",
    "        abstract = record.get('abstract')\n",
    "        if isinstance(abstract, str):\n",
    "            for sentence in sent_tokenize(abstract):\n",
    "                if len(sentence.split()) >= 10 and sentence not in seen_page_contents:\n",
    "                    seen_page_contents.add(sentence)\n",
    "                    doc_sentence = Document(page_content=sentence,\n",
    "                                            metadata={\"section\": \"abstract\", \"doi\": record.get('doi')})\n",
    "                    all_documents.append(doc_sentence)\n",
    "\n",
    "        # Process sentences in paragraphs\n",
    "        for paragraph in record.get('paragraphs', []):\n",
    "            section_name = paragraph.get('section_name', '').lower()\n",
    "            text = paragraph.get('text', '')\n",
    "\n",
    "            # Check for section 'introduction'\n",
    "            if 'introduction' in section_name:\n",
    "                continue\n",
    "\n",
    "            for sentence in sent_tokenize(text):\n",
    "                # Check for sentence length and duplication\n",
    "                if len(sentence.split()) >= 10 and sentence not in seen_page_contents:\n",
    "                    seen_page_contents.add(sentence)\n",
    "                    doc_sentence = Document(page_content=sentence,\n",
    "                                            metadata={\"section\": section_name, \"doi\": record.get('doi')})\n",
    "                    all_documents.append(doc_sentence)\n",
    "\n",
    "    return all_documents"
   ]
  },
  {
   "cell_type": "code",
   "execution_count": 8,
   "id": "a56067e9",
   "metadata": {},
   "outputs": [
    {
     "name": "stderr",
     "output_type": "stream",
     "text": [
      "Filtering records: 100%|██████████| 36857/36857 [02:54<00:00, 211.63it/s]\n"
     ]
    }
   ],
   "source": [
    "processed_documents = process_dataset(filtered_records)"
   ]
  },
  {
   "cell_type": "code",
   "execution_count": 9,
   "id": "7b9459ad",
   "metadata": {},
   "outputs": [
    {
     "data": {
      "text/plain": [
       "4541573"
      ]
     },
     "execution_count": 9,
     "metadata": {},
     "output_type": "execute_result"
    }
   ],
   "source": [
    "len(processed_documents)"
   ]
  },
  {
   "cell_type": "code",
   "execution_count": 10,
   "id": "cfcc552c",
   "metadata": {},
   "outputs": [],
   "source": [
    "# Define metadata field information\n",
    "metadata_field_info = [\n",
    "    AttributeInfo(name=\"section\", description=\"Section of the paper\", type=\"string\"),\n",
    "    AttributeInfo(name=\"doi\", description=\"Digital Object Identifier of the document\", type=\"string\"),\n",
    "]"
   ]
  },
  {
   "cell_type": "code",
   "execution_count": 11,
   "id": "e627cef6",
   "metadata": {},
   "outputs": [],
   "source": [
    "embeddings = SentenceTransformerEmbeddings(model_name=\"all-MiniLM-L6-v2\")\n",
    "persist_directory = 'data/chroma/sminilm'"
   ]
  },
  {
   "cell_type": "code",
   "execution_count": 12,
   "id": "8dc57868",
   "metadata": {},
   "outputs": [],
   "source": [
    "svdb = Chroma.from_documents(processed_documents, embedding=embeddings, persist_directory=persist_directory)"
   ]
  },
  {
   "cell_type": "code",
   "execution_count": 13,
   "id": "7d5a301b",
   "metadata": {},
   "outputs": [],
   "source": [
    "svdb.persist()"
   ]
  },
  {
   "cell_type": "code",
   "execution_count": 14,
   "id": "9c044baa",
   "metadata": {},
   "outputs": [
    {
     "name": "stdout",
     "output_type": "stream",
     "text": [
      "4541573\n"
     ]
    }
   ],
   "source": [
    "# To load the vectordb\n",
    "svdb = Chroma(persist_directory=persist_directory, embedding_function=embeddings)\n",
    "print(svdb._collection.count())"
   ]
  },
  {
   "cell_type": "code",
   "execution_count": null,
   "id": "5f690dd0",
   "metadata": {},
   "outputs": [],
   "source": []
  }
 ],
 "metadata": {
  "kernelspec": {
   "display_name": "soroush1",
   "language": "python",
   "name": "soroush1"
  },
  "language_info": {
   "codemirror_mode": {
    "name": "ipython",
    "version": 3
   },
   "file_extension": ".py",
   "mimetype": "text/x-python",
   "name": "python",
   "nbconvert_exporter": "python",
   "pygments_lexer": "ipython3",
   "version": "3.9.18"
  }
 },
 "nbformat": 4,
 "nbformat_minor": 5
}
