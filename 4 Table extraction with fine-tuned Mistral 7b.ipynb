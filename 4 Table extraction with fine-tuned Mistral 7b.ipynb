{
 "cells": [
  {
   "cell_type": "code",
   "execution_count": 2,
   "id": "152e94dd",
   "metadata": {},
   "outputs": [
    {
     "name": "stderr",
     "output_type": "stream",
     "text": [
      "/home/synthesisproject/anaconda3/lib/python3.8/site-packages/dask/dataframe/utils.py:369: FutureWarning: pandas.Int64Index is deprecated and will be removed from pandas in a future version. Use pandas.Index with the appropriate dtype instead.\n",
      "  _numeric_index_types = (pd.Int64Index, pd.Float64Index, pd.UInt64Index)\n",
      "/home/synthesisproject/anaconda3/lib/python3.8/site-packages/dask/dataframe/utils.py:369: FutureWarning: pandas.Float64Index is deprecated and will be removed from pandas in a future version. Use pandas.Index with the appropriate dtype instead.\n",
      "  _numeric_index_types = (pd.Int64Index, pd.Float64Index, pd.UInt64Index)\n",
      "/home/synthesisproject/anaconda3/lib/python3.8/site-packages/dask/dataframe/utils.py:369: FutureWarning: pandas.UInt64Index is deprecated and will be removed from pandas in a future version. Use pandas.Index with the appropriate dtype instead.\n",
      "  _numeric_index_types = (pd.Int64Index, pd.Float64Index, pd.UInt64Index)\n"
     ]
    }
   ],
   "source": [
    "\n",
    "from tqdm import tqdm\n",
    "import re\n",
    "import pickle\n",
    "import json\n",
    "import torch\n",
    "from langchain.embeddings import SentenceTransformerEmbeddings\n",
    "from transformers import AutoModel, AutoTokenizer\n",
    "from langchain.vectorstores import Chroma\n",
    "import json\n",
    "import torch\n",
    "from transformers import BertTokenizer, BertForSequenceClassification\n",
    "from torch.utils.data import Dataset, DataLoader, RandomSampler, SequentialSampler\n",
    "from sklearn.model_selection import train_test_split\n",
    "from sklearn.metrics import accuracy_score\n",
    "from transformers import AdamW\n",
    "import numpy as np\n",
    "import random\n",
    "from IPython.display import HTML, display\n",
    "import getpass\n",
    "import logging\n",
    "import os\n",
    "import torch\n",
    "import yaml\n",
    "from ludwig.api import LudwigModel\n",
    "from datasets import load_dataset\n",
    "import numpy as np; np.random.seed(123)\n",
    "import pandas as pd\n",
    "from tqdm import tqdm\n",
    "from IPython.display import HTML, display\n",
    "from transformers import AutoModelForSeq2SeqLM, AutoModelForCausalLM\n",
    "from transformers import AutoTokenizer\n",
    "from transformers import GenerationConfig\n",
    "import evaluate\n",
    "import json"
   ]
  },
  {
   "cell_type": "code",
   "execution_count": 17,
   "id": "df3b76d0",
   "metadata": {},
   "outputs": [
    {
     "data": {
      "text/html": [
       "\n",
       "  <style>\n",
       "    pre {\n",
       "        white-space: pre-wrap;\n",
       "    }\n",
       "  </style>\n",
       "  "
      ],
      "text/plain": [
       "<IPython.core.display.HTML object>"
      ]
     },
     "metadata": {},
     "output_type": "display_data"
    },
    {
     "data": {
      "text/plain": [
       "'2.0.1+cu117'"
      ]
     },
     "execution_count": 17,
     "metadata": {},
     "output_type": "execute_result"
    }
   ],
   "source": [
    "torch.__version__"
   ]
  },
  {
   "cell_type": "code",
   "execution_count": 4,
   "id": "8431c4cb",
   "metadata": {},
   "outputs": [
    {
     "data": {
      "text/html": [
       "<div>\n",
       "<style scoped>\n",
       "    .dataframe tbody tr th:only-of-type {\n",
       "        vertical-align: middle;\n",
       "    }\n",
       "\n",
       "    .dataframe tbody tr th {\n",
       "        vertical-align: top;\n",
       "    }\n",
       "\n",
       "    .dataframe thead th {\n",
       "        text-align: right;\n",
       "    }\n",
       "</style>\n",
       "<table border=\"1\" class=\"dataframe\">\n",
       "  <thead>\n",
       "    <tr style=\"text-align: right;\">\n",
       "      <th></th>\n",
       "      <th>Prompt</th>\n",
       "      <th>Winner</th>\n",
       "    </tr>\n",
       "  </thead>\n",
       "  <tbody>\n",
       "    <tr>\n",
       "      <th>0</th>\n",
       "      <td>Oxides weight percentage content in EAF slag, ...</td>\n",
       "      <td>Material Name, SiO2, Al2O3, Fe2O3, CaO, MgO, S...</td>\n",
       "    </tr>\n",
       "    <tr>\n",
       "      <th>1</th>\n",
       "      <td>Properties of cement and fly ashes used \\n [['...</td>\n",
       "      <td>Material Name,SiO2,Al2O3,Fe2O3,CaO,MgO,SO3,TiO...</td>\n",
       "    </tr>\n",
       "    <tr>\n",
       "      <th>2</th>\n",
       "      <td>Chemical composition of SFS. \\n [['Constituent...</td>\n",
       "      <td>Material Name,SiO2,Al2O3,Fe2O3,CaO,MgO,SO3,TiO...</td>\n",
       "    </tr>\n",
       "    <tr>\n",
       "      <th>3</th>\n",
       "      <td>Chemical compositions of cement, silica fume a...</td>\n",
       "      <td>Material Name,SiO2,Al2O3,Fe2O3,CaO,MgO,SO3,TiO...</td>\n",
       "    </tr>\n",
       "    <tr>\n",
       "      <th>4</th>\n",
       "      <td>Cement composition oxide wt.% \\n [['SiO2', 'Al...</td>\n",
       "      <td>Material Name,SiO2,Al2O3,Fe2O3,CaO,MgO,SO3,TiO...</td>\n",
       "    </tr>\n",
       "  </tbody>\n",
       "</table>\n",
       "</div>"
      ],
      "text/plain": [
       "                                              Prompt  \\\n",
       "0  Oxides weight percentage content in EAF slag, ...   \n",
       "1  Properties of cement and fly ashes used \\n [['...   \n",
       "2  Chemical composition of SFS. \\n [['Constituent...   \n",
       "3  Chemical compositions of cement, silica fume a...   \n",
       "4  Cement composition oxide wt.% \\n [['SiO2', 'Al...   \n",
       "\n",
       "                                              Winner  \n",
       "0  Material Name, SiO2, Al2O3, Fe2O3, CaO, MgO, S...  \n",
       "1  Material Name,SiO2,Al2O3,Fe2O3,CaO,MgO,SO3,TiO...  \n",
       "2  Material Name,SiO2,Al2O3,Fe2O3,CaO,MgO,SO3,TiO...  \n",
       "3  Material Name,SiO2,Al2O3,Fe2O3,CaO,MgO,SO3,TiO...  \n",
       "4  Material Name,SiO2,Al2O3,Fe2O3,CaO,MgO,SO3,TiO...  "
      ]
     },
     "execution_count": 4,
     "metadata": {},
     "output_type": "execute_result"
    }
   ],
   "source": [
    "gt= pd.read_csv('Table dataset.csv')\n",
    "gt.head()"
   ]
  },
  {
   "cell_type": "code",
   "execution_count": 5,
   "id": "5fde2888",
   "metadata": {},
   "outputs": [],
   "source": [
    "dataset_c = []\n",
    "for _, (Table, Winner) in gt.iterrows():\n",
    "    Prompt = f\"\"\"<s>[INST]Primary Task:Parse an unstructured HTML table and reformat it into a CSV file.\n",
    "    CSV Format Requirements: Ensure the CSV includes columns for Material Name, SiO2, Al2O3, Fe2O3, CaO, MgO, SO3, TiO2, MnO, K2O, Na2O, LOI.\n",
    "    Handling Missing Data: Use 'NaN' for any missing data in these columns.\n",
    "    Non-relevant Data: If the table's content is not related to the specified chemicals, respond with 'NR' only.\n",
    "    \n",
    "  \n",
    "    Unstructured HTML table: {Table}\n",
    "    [INST]\"\"\"\n",
    "\n",
    "\n",
    "    dataset_c.append({\"Prompt\": Prompt, \"Winner\": Winner})"
   ]
  },
  {
   "cell_type": "code",
   "execution_count": 6,
   "id": "eb10ae75",
   "metadata": {},
   "outputs": [
    {
     "data": {
      "text/html": [
       "<div>\n",
       "<style scoped>\n",
       "    .dataframe tbody tr th:only-of-type {\n",
       "        vertical-align: middle;\n",
       "    }\n",
       "\n",
       "    .dataframe tbody tr th {\n",
       "        vertical-align: top;\n",
       "    }\n",
       "\n",
       "    .dataframe thead th {\n",
       "        text-align: right;\n",
       "    }\n",
       "</style>\n",
       "<table border=\"1\" class=\"dataframe\">\n",
       "  <thead>\n",
       "    <tr style=\"text-align: right;\">\n",
       "      <th></th>\n",
       "      <th>Prompt</th>\n",
       "      <th>Winner</th>\n",
       "    </tr>\n",
       "  </thead>\n",
       "  <tbody>\n",
       "    <tr>\n",
       "      <th>0</th>\n",
       "      <td>&lt;s&gt;[INST]Primary Task:Parse an unstructured HT...</td>\n",
       "      <td>Material Name, SiO2, Al2O3, Fe2O3, CaO, MgO, S...</td>\n",
       "    </tr>\n",
       "    <tr>\n",
       "      <th>1</th>\n",
       "      <td>&lt;s&gt;[INST]Primary Task:Parse an unstructured HT...</td>\n",
       "      <td>Material Name,SiO2,Al2O3,Fe2O3,CaO,MgO,SO3,TiO...</td>\n",
       "    </tr>\n",
       "    <tr>\n",
       "      <th>2</th>\n",
       "      <td>&lt;s&gt;[INST]Primary Task:Parse an unstructured HT...</td>\n",
       "      <td>Material Name,SiO2,Al2O3,Fe2O3,CaO,MgO,SO3,TiO...</td>\n",
       "    </tr>\n",
       "    <tr>\n",
       "      <th>3</th>\n",
       "      <td>&lt;s&gt;[INST]Primary Task:Parse an unstructured HT...</td>\n",
       "      <td>Material Name,SiO2,Al2O3,Fe2O3,CaO,MgO,SO3,TiO...</td>\n",
       "    </tr>\n",
       "    <tr>\n",
       "      <th>4</th>\n",
       "      <td>&lt;s&gt;[INST]Primary Task:Parse an unstructured HT...</td>\n",
       "      <td>Material Name,SiO2,Al2O3,Fe2O3,CaO,MgO,SO3,TiO...</td>\n",
       "    </tr>\n",
       "  </tbody>\n",
       "</table>\n",
       "</div>"
      ],
      "text/plain": [
       "                                              Prompt  \\\n",
       "0  <s>[INST]Primary Task:Parse an unstructured HT...   \n",
       "1  <s>[INST]Primary Task:Parse an unstructured HT...   \n",
       "2  <s>[INST]Primary Task:Parse an unstructured HT...   \n",
       "3  <s>[INST]Primary Task:Parse an unstructured HT...   \n",
       "4  <s>[INST]Primary Task:Parse an unstructured HT...   \n",
       "\n",
       "                                              Winner  \n",
       "0  Material Name, SiO2, Al2O3, Fe2O3, CaO, MgO, S...  \n",
       "1  Material Name,SiO2,Al2O3,Fe2O3,CaO,MgO,SO3,TiO...  \n",
       "2  Material Name,SiO2,Al2O3,Fe2O3,CaO,MgO,SO3,TiO...  \n",
       "3  Material Name,SiO2,Al2O3,Fe2O3,CaO,MgO,SO3,TiO...  \n",
       "4  Material Name,SiO2,Al2O3,Fe2O3,CaO,MgO,SO3,TiO...  "
      ]
     },
     "execution_count": 6,
     "metadata": {},
     "output_type": "execute_result"
    }
   ],
   "source": [
    "Dataset = pd.DataFrame(dataset_c)\n",
    "Dataset.head()"
   ]
  },
  {
   "cell_type": "code",
   "execution_count": 7,
   "id": "e6e18ea1",
   "metadata": {},
   "outputs": [
    {
     "data": {
      "text/plain": [
       "{'Prompt': \"<s>[INST]Primary Task:Parse an unstructured HTML table and reformat it into a CSV file.\\n    CSV Format Requirements: Ensure the CSV includes columns for Material Name, SiO2, Al2O3, Fe2O3, CaO, MgO, SO3, TiO2, MnO, K2O, Na2O, LOI.\\n    Handling Missing Data: Use 'NaN' for any missing data in these columns.\\n    Non-relevant Data: If the table's content is not related to the specified chemicals, respond with 'NR' only.\\n    \\n  \\n    Unstructured HTML table: Properties of cement and fly ashes used \\n [['Chemical composition', 'Chemical composition', 'Chemical composition', 'Chemical composition', 'Chemical composition', ''], ['Oxide (%)', 'PC', 'HL1', 'HL2', 'LL1', 'LL2'], ['CaO', '63.3', '20.3', '14.0', '4.4', '2.0'], ['SiO2', '20.2', '43.3', '47.1', '58.6', '59.4'], ['Al2O3', '5.9', '25.1', '17.4', '21.9', '25.8'], ['Fe2O3', '3.3', '4.9', '8.3', '9.3', '5.8'], ['MgO', '1.8', '0.8', '1.9', '1.4', '0.6'], ['SO3', '2.9', '2.5', '4.6', '0.4', '0.1'], ['K2O', '0.8', '1.3', '1.8', '1.8', '3.8'], ['Na2O', '0.5', '0.2', '2.4', '0.3', '0.4'], ['LOI', '0.8', '1.19', '1.7', '1.4', '1.6'], ['IR', '0.4', 'nd', 'nd', 'nd', 'nd'], ['Physical and mechanical properties', 'Physical and mechanical properties', 'Physical and mechanical properties', 'Physical and mechanical properties', 'Physical and mechanical properties', 'Physical and mechanical properties'], ['Compressive strength (MPa)', '', '', '', '', ''], ['7 days', '20.7', '', '', '', ''], ['28 days', '31.6', '-', '-', '-', '-'], ['90 days', '42.9', '', '', '', ''], ['Density (g/cm3)', '3.12', '2.25', '2.28', '2.08', '2.02'], ['Blaine fineness (m2/kg)', '292', '455', '275', '302', '290'], ['PAI with PC (%)', '-', '84.5', '61.0', '66.3', '54.7'], ['PAI with lime (MPa)', '-', '32.0', '17.3', '14.7', '9.3'], ['nd = not determined. PAI = Pozzolanic activity index.', 'nd = not determined. PAI = Pozzolanic activity index.', 'nd = not determined. PAI = Pozzolanic activity index.', 'nd = not determined. PAI = Pozzolanic activity index.', 'nd = not determined. PAI = Pozzolanic activity index.', 'nd = not determined. PAI = Pozzolanic activity index.']]\\n    [INST]\",\n",
       " 'Winner': 'Material Name,SiO2,Al2O3,Fe2O3,CaO,MgO,SO3,TiO2,MnO,K2O,Na2O,LOI\\nPC,20.2,5.9,3.3,63.3,1.8,2.9,NaN,NaN,0.8,0.5,0.8\\nHL1,43.3,25.1,4.9,20.3,0.8,2.5,NaN,NaN,1.3,0.2,1.19\\nHL2,47.1,17.4,8.3,14.0,1.9,4.6,NaN,NaN,1.8,2.4,1.7\\nLL1,58.6,21.9,9.3,4.4,1.4,0.4,NaN,NaN,1.8,0.3,1.4\\nLL2,59.4,25.8,5.8,2.0,0.6,0.1,NaN,NaN,3.8,0.4,1.6'}"
      ]
     },
     "execution_count": 7,
     "metadata": {},
     "output_type": "execute_result"
    }
   ],
   "source": [
    "dataset_c[1]"
   ]
  },
  {
   "cell_type": "code",
   "execution_count": 8,
   "id": "cb9f720a",
   "metadata": {},
   "outputs": [],
   "source": [
    "from sklearn.model_selection import train_test_split\n",
    "train_data, test_data = train_test_split(dataset_c, test_size=0.13)\n",
    "train_df= pd.DataFrame(train_data)\n",
    "test_df= pd.DataFrame(test_data)"
   ]
  },
  {
   "cell_type": "code",
   "execution_count": 9,
   "id": "38881a9b",
   "metadata": {},
   "outputs": [
    {
     "data": {
      "text/html": [
       "<div>\n",
       "<style scoped>\n",
       "    .dataframe tbody tr th:only-of-type {\n",
       "        vertical-align: middle;\n",
       "    }\n",
       "\n",
       "    .dataframe tbody tr th {\n",
       "        vertical-align: top;\n",
       "    }\n",
       "\n",
       "    .dataframe thead th {\n",
       "        text-align: right;\n",
       "    }\n",
       "</style>\n",
       "<table border=\"1\" class=\"dataframe\">\n",
       "  <thead>\n",
       "    <tr style=\"text-align: right;\">\n",
       "      <th></th>\n",
       "      <th>Prompt</th>\n",
       "      <th>Winner</th>\n",
       "    </tr>\n",
       "  </thead>\n",
       "  <tbody>\n",
       "    <tr>\n",
       "      <th>0</th>\n",
       "      <td>&lt;s&gt;[INST]Primary Task:Parse an unstructured HT...</td>\n",
       "      <td>Material Name,SiO2,Al2O3,Fe2O3,CaO,MgO,SO3,TiO...</td>\n",
       "    </tr>\n",
       "    <tr>\n",
       "      <th>1</th>\n",
       "      <td>&lt;s&gt;[INST]Primary Task:Parse an unstructured HT...</td>\n",
       "      <td>Material Name, SiO2, Al2O3, Fe2O3, CaO, MgO, S...</td>\n",
       "    </tr>\n",
       "    <tr>\n",
       "      <th>2</th>\n",
       "      <td>&lt;s&gt;[INST]Primary Task:Parse an unstructured HT...</td>\n",
       "      <td>NR</td>\n",
       "    </tr>\n",
       "    <tr>\n",
       "      <th>3</th>\n",
       "      <td>&lt;s&gt;[INST]Primary Task:Parse an unstructured HT...</td>\n",
       "      <td>\"Material Name,SiO2,Al2O3,Fe2O3,CaO,MgO,SO3,Ti...</td>\n",
       "    </tr>\n",
       "    <tr>\n",
       "      <th>4</th>\n",
       "      <td>&lt;s&gt;[INST]Primary Task:Parse an unstructured HT...</td>\n",
       "      <td>Material Name, SiO2, Al2O3, Fe2O3, CaO, MgO, S...</td>\n",
       "    </tr>\n",
       "  </tbody>\n",
       "</table>\n",
       "</div>"
      ],
      "text/plain": [
       "                                              Prompt  \\\n",
       "0  <s>[INST]Primary Task:Parse an unstructured HT...   \n",
       "1  <s>[INST]Primary Task:Parse an unstructured HT...   \n",
       "2  <s>[INST]Primary Task:Parse an unstructured HT...   \n",
       "3  <s>[INST]Primary Task:Parse an unstructured HT...   \n",
       "4  <s>[INST]Primary Task:Parse an unstructured HT...   \n",
       "\n",
       "                                              Winner  \n",
       "0  Material Name,SiO2,Al2O3,Fe2O3,CaO,MgO,SO3,TiO...  \n",
       "1  Material Name, SiO2, Al2O3, Fe2O3, CaO, MgO, S...  \n",
       "2                                                 NR  \n",
       "3  \"Material Name,SiO2,Al2O3,Fe2O3,CaO,MgO,SO3,Ti...  \n",
       "4  Material Name, SiO2, Al2O3, Fe2O3, CaO, MgO, S...  "
      ]
     },
     "execution_count": 9,
     "metadata": {},
     "output_type": "execute_result"
    }
   ],
   "source": [
    "\n",
    "train_df.head()"
   ]
  },
  {
   "cell_type": "code",
   "execution_count": 10,
   "id": "87ca055d",
   "metadata": {},
   "outputs": [
    {
     "data": {
      "text/plain": [
       "'\"Material Name,SiO2,Al2O3,Fe2O3,CaO,MgO,SO3,TiO2,MnO,K2O,Na2O,LOI\\nPortland Cement,19.701,4.653,3.482,61.123,2.059,3.007,0.271,NaN,0.695,0.154,NaN\"'"
      ]
     },
     "execution_count": 10,
     "metadata": {},
     "output_type": "execute_result"
    }
   ],
   "source": [
    "train_df.loc[3]['Winner']"
   ]
  },
  {
   "cell_type": "code",
   "execution_count": 11,
   "id": "166c547b",
   "metadata": {},
   "outputs": [
    {
     "data": {
      "text/plain": [
       "\"<s>[INST]Primary Task:Parse an unstructured HTML table and reformat it into a CSV file.\\n    CSV Format Requirements: Ensure the CSV includes columns for Material Name, SiO2, Al2O3, Fe2O3, CaO, MgO, SO3, TiO2, MnO, K2O, Na2O, LOI.\\n    Handling Missing Data: Use 'NaN' for any missing data in these columns.\\n    Non-relevant Data: If the table's content is not related to the specified chemicals, respond with 'NR' only.\\n    \\n  \\n    Unstructured HTML table: Chemical and physical properties of LSP. \\n [['Materials', 'Chemical composition (%)', 'Chemical composition (%)', 'Chemical composition (%)', 'Typical properties', 'Typical properties'], ['', 'CaCO3', 'MgCO3', 'Fe2O3', 'Specific gravity', 'Bulk density (gr/cm3)'], ['Limestone Powder', '96', '1', '<0.1', '2.65', '2.3']]\\n    [INST]\""
      ]
     },
     "execution_count": 11,
     "metadata": {},
     "output_type": "execute_result"
    }
   ],
   "source": [
    "train_df.loc[3]['Prompt']"
   ]
  },
  {
   "cell_type": "code",
   "execution_count": 12,
   "id": "21e0d2b4",
   "metadata": {},
   "outputs": [
    {
     "data": {
      "text/html": [
       "<div>\n",
       "<style scoped>\n",
       "    .dataframe tbody tr th:only-of-type {\n",
       "        vertical-align: middle;\n",
       "    }\n",
       "\n",
       "    .dataframe tbody tr th {\n",
       "        vertical-align: top;\n",
       "    }\n",
       "\n",
       "    .dataframe thead th {\n",
       "        text-align: right;\n",
       "    }\n",
       "</style>\n",
       "<table border=\"1\" class=\"dataframe\">\n",
       "  <thead>\n",
       "    <tr style=\"text-align: right;\">\n",
       "      <th></th>\n",
       "      <th>Prompt</th>\n",
       "      <th>Winner</th>\n",
       "    </tr>\n",
       "  </thead>\n",
       "  <tbody>\n",
       "    <tr>\n",
       "      <th>0</th>\n",
       "      <td>&lt;s&gt;[INST]Primary Task:Parse an unstructured HT...</td>\n",
       "      <td>Material Name,SiO2,Al2O3,Fe2O3,CaO,MgO,SO3,TiO...</td>\n",
       "    </tr>\n",
       "    <tr>\n",
       "      <th>1</th>\n",
       "      <td>&lt;s&gt;[INST]Primary Task:Parse an unstructured HT...</td>\n",
       "      <td>Material Name,SiO2,Al2O3,Fe2O3,CaO,MgO,SO3,TiO...</td>\n",
       "    </tr>\n",
       "    <tr>\n",
       "      <th>2</th>\n",
       "      <td>&lt;s&gt;[INST]Primary Task:Parse an unstructured HT...</td>\n",
       "      <td>NR</td>\n",
       "    </tr>\n",
       "    <tr>\n",
       "      <th>3</th>\n",
       "      <td>&lt;s&gt;[INST]Primary Task:Parse an unstructured HT...</td>\n",
       "      <td>NR</td>\n",
       "    </tr>\n",
       "    <tr>\n",
       "      <th>4</th>\n",
       "      <td>&lt;s&gt;[INST]Primary Task:Parse an unstructured HT...</td>\n",
       "      <td>\"Material Name,SiO2,Al2O3,Fe2O3,CaO,MgO,SO3,Ti...</td>\n",
       "    </tr>\n",
       "  </tbody>\n",
       "</table>\n",
       "</div>"
      ],
      "text/plain": [
       "                                              Prompt  \\\n",
       "0  <s>[INST]Primary Task:Parse an unstructured HT...   \n",
       "1  <s>[INST]Primary Task:Parse an unstructured HT...   \n",
       "2  <s>[INST]Primary Task:Parse an unstructured HT...   \n",
       "3  <s>[INST]Primary Task:Parse an unstructured HT...   \n",
       "4  <s>[INST]Primary Task:Parse an unstructured HT...   \n",
       "\n",
       "                                              Winner  \n",
       "0  Material Name,SiO2,Al2O3,Fe2O3,CaO,MgO,SO3,TiO...  \n",
       "1  Material Name,SiO2,Al2O3,Fe2O3,CaO,MgO,SO3,TiO...  \n",
       "2                                                 NR  \n",
       "3                                                 NR  \n",
       "4  \"Material Name,SiO2,Al2O3,Fe2O3,CaO,MgO,SO3,Ti...  "
      ]
     },
     "execution_count": 12,
     "metadata": {},
     "output_type": "execute_result"
    }
   ],
   "source": [
    "test_df.head()"
   ]
  },
  {
   "cell_type": "code",
   "execution_count": 13,
   "id": "df9c275d",
   "metadata": {},
   "outputs": [],
   "source": [
    "from IPython.display import HTML, display\n",
    "\n",
    "def set_css():\n",
    "  display(HTML('''\n",
    "  <style>\n",
    "    pre {\n",
    "        white-space: pre-wrap;\n",
    "    }\n",
    "  </style>\n",
    "  '''))\n",
    "\n",
    "get_ipython().events.register('pre_run_cell', set_css)\n",
    "\n",
    "def clear_cache():\n",
    "  if torch.cuda.is_available():\n",
    "    model = None\n",
    "    torch.cuda.empty_cache()"
   ]
  },
  {
   "cell_type": "code",
   "execution_count": null,
   "id": "55630317-bb4f-4295-bbdd-b54d28a0a205",
   "metadata": {},
   "outputs": [],
   "source": [
    "model = None\n",
    "clear_cache()\n",
    "\n",
    "\n",
    "qlora_fine_tuning_config = yaml.safe_load(\n",
    "\"\"\"\n",
    "  model_type: llm\n",
    "  base_model:   mistralai/Mistral-7B-v0.1\n",
    "\n",
    "\n",
    "  input_features:\n",
    "    - name: Prompt\n",
    "      type: text\n",
    "\n",
    "\n",
    "  output_features:\n",
    "    - name: Winner\n",
    "      type: text\n",
    "\n",
    "\n",
    "  prompt:\n",
    "    template: >-\n",
    "\n",
    "      ### Prompt: {Prompt}\n",
    "\n",
    "      ### Winner :\n",
    "  \n",
    "  quantization:\n",
    "    bits: 8\n",
    "\n",
    "  generation:\n",
    "    temperature: 0.1\n",
    "    max_new_tokens: 2048\n",
    "    \n",
    "  preprocessing:\n",
    "    split:\n",
    "       probabilities:\n",
    "        - 0.9\n",
    "        - 0.05\n",
    "        - 0.05\n",
    "    global_max_sequence_length: 2048\n",
    "    \n",
    "  adapter:\n",
    "    type: lora\n",
    "\n",
    "  trainer:\n",
    "    type: finetune\n",
    "    epochs: 3\n",
    "    batch_size: 1\n",
    "    eval_batch_size: 1\n",
    "    enable_gradient_checkpointing: true\n",
    "    gradient_accumulation_steps: 16\n",
    "    learning_rate: 0.0002\n",
    "    optimizer:\n",
    "      type: adamw\n",
    "      params:\n",
    "        eps: 1.e-8\n",
    "        betas:\n",
    "          - 0.9\n",
    "          - 0.999\n",
    "        weight_decay: 0\n",
    "    learning_rate_scheduler:\n",
    "      warmup_fraction: 0.03\n",
    "      reduce_on_plateau: 0\n",
    "  \"\"\"\n",
    "  )\n",
    "\n",
    "\n",
    "new_model = LudwigModel(config=qlora_fine_tuning_config, logging_level=logging.INFO)\n",
    "results = new_model.train(dataset=Dataset)"
   ]
  },
  {
   "cell_type": "code",
   "execution_count": null,
   "id": "d157b80f",
   "metadata": {},
   "outputs": [],
   "source": [
    "save_path='QLORA_mistral_TE_CC'\n",
    "new_model.save(save_path)"
   ]
  },
  {
   "cell_type": "code",
   "execution_count": null,
   "id": "5a6dc547",
   "metadata": {},
   "outputs": [],
   "source": [
    "predictions, _ = new_model.predict(dataset=test_df)\n"
   ]
  },
  {
   "cell_type": "code",
   "execution_count": null,
   "id": "375e00f6",
   "metadata": {},
   "outputs": [],
   "source": [
    "results = predictions.Winner_response\n",
    "print(results)"
   ]
  },
  {
   "cell_type": "code",
   "execution_count": null,
   "id": "f91f795c-42fe-474e-8276-809f611c9087",
   "metadata": {},
   "outputs": [],
   "source": []
  }
 ],
 "metadata": {
  "kernelspec": {
   "display_name": "soroush2",
   "language": "python",
   "name": "soroush2"
  },
  "language_info": {
   "codemirror_mode": {
    "name": "ipython",
    "version": 3
   },
   "file_extension": ".py",
   "mimetype": "text/x-python",
   "name": "python",
   "nbconvert_exporter": "python",
   "pygments_lexer": "ipython3",
   "version": "3.8.8"
  }
 },
 "nbformat": 4,
 "nbformat_minor": 5
}
