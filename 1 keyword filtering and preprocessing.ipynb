{
 "cells": [
  {
   "cell_type": "code",
   "execution_count": 2,
   "id": "f2bdd7c1",
   "metadata": {},
   "outputs": [],
   "source": [
    "\n",
    "from pymongo import MongoClient\n",
    "from tqdm import tqdm\n",
    "import re\n",
    "import pickle\n",
    "import json\n",
    "\n"
   ]
  },
  {
   "cell_type": "code",
   "execution_count": 33,
   "id": "d5436c35",
   "metadata": {},
   "outputs": [],
   "source": [
    "client = MongoClient() # intialize client"
   ]
  },
  {
   "cell_type": "code",
   "execution_count": 34,
   "id": "5b62d62a",
   "metadata": {},
   "outputs": [
    {
     "data": {
      "text/plain": [
       "5762732"
      ]
     },
     "execution_count": 34,
     "metadata": {},
     "output_type": "execute_result"
    }
   ],
   "source": [
    "## Papers\n",
    "all_records = client.predsynth.papers_v2.find()\n",
    "client.predsynth.papers_v2.estimated_document_count() # Check number of papers in papers collection"
   ]
  },
  {
   "cell_type": "code",
   "execution_count": 1,
   "id": "7c984a2c",
   "metadata": {
    "scrolled": true
   },
   "outputs": [],
   "source": [
    "# Define keywords for cement and concrete\n",
    "include_keywords = [\"cement\", \"concrete\", \"cementitious\", \"mortar\", \"binder\"]\n"
   ]
  },
  {
   "cell_type": "code",
   "execution_count": 36,
   "id": "6c895f07",
   "metadata": {},
   "outputs": [
    {
     "name": "stderr",
     "output_type": "stream",
     "text": [
      "Filtering records: 5762751it [50:02, 1919.49it/s]\n"
     ]
    }
   ],
   "source": [
    "def filter_papers_by_criteria(records, include_keywords, exclude_keyword, min_abstract_length):\n",
    "    filtered_records = []\n",
    "\n",
    "    # Convert include_keywords to lowercase for case-insensitive matching\n",
    "    include_keywords = [keyword.lower() for keyword in include_keywords]\n",
    "\n",
    "    for record in tqdm(records, desc=\"Filtering records\"):\n",
    "        # Ensure that title and abstract are strings and convert them to lowercase\n",
    "        title = str(record.get(\"title\", \"\")).lower()\n",
    "        abstract = str(record.get(\"abstract\", \"\")).lower()\n",
    "\n",
    "        # Check if keywords exist and are a list, then convert to lowercase\n",
    "        record_keywords = record.get(\"keywords\")\n",
    "        if record_keywords is None:\n",
    "            record_keywords = []\n",
    "        else:\n",
    "            record_keywords = [keyword.lower() for keyword in record_keywords]\n",
    "\n",
    "        # Check title, keywords, and abstract for any of the include_keywords\n",
    "        if (any(re.search(r'\\b' + re.escape(keyword) + r'\\b', title) for keyword in include_keywords) or\n",
    "            any(keyword in record_keywords for keyword in include_keywords) or\n",
    "            any(re.search(r'\\b' + re.escape(keyword) + r'\\b', abstract) for keyword in include_keywords)):\n",
    "            # Exclude if it contains the exclude keyword\n",
    "            if not re.search(r'\\b' + re.escape(exclude_keyword) + r'\\b', abstract):\n",
    "                filtered_records.append(record)\n",
    "    return filtered_records\n",
    "\n",
    "\n",
    "\n",
    "# Keywords for title and the must-have keywords for abstract\n",
    "exclude_keyword = 'dental'\n",
    "min_abstract_length=20\n",
    "# Apply the function\n",
    "filtered_records = filter_papers_by_criteria(all_records, include_keywords, exclude_keyword, min_abstract_length)"
   ]
  },
  {
   "cell_type": "code",
   "execution_count": 39,
   "id": "78f2e1f4",
   "metadata": {},
   "outputs": [
    {
     "name": "stdout",
     "output_type": "stream",
     "text": [
      "87529\n"
     ]
    }
   ],
   "source": [
    "# Count the number of papers\n",
    "num_related_papers = len(filtered_records)\n",
    "print(num_related_papers)"
   ]
  },
  {
   "cell_type": "code",
   "execution_count": 41,
   "id": "dd5b42db",
   "metadata": {},
   "outputs": [],
   "source": [
    "from bson import ObjectId\n",
    "import json\n",
    "\n",
    "def json_serialize(obj):\n",
    "    \"\"\"\n",
    "    JSON serializer for objects not serializable by default json code\n",
    "    \"\"\"\n",
    "    if isinstance(obj, ObjectId):\n",
    "        return str(obj)\n",
    "    raise TypeError (\"Type %s not serializable\" % type(obj))\n",
    "    \n",
    "def json_deserialize(obj):\n",
    "    # Implement deserialization if needed, e.g., converting string back to datetime\n",
    "    return obj"
   ]
  },
  {
   "cell_type": "code",
   "execution_count": 42,
   "id": "855ee03d",
   "metadata": {},
   "outputs": [],
   "source": [
    "\n",
    "# Usage\n",
    "with open('filtered_records.json', 'w') as file:\n",
    "    json.dump(filtered_records, file, default=json_serialize)"
   ]
  }
 ],
 "metadata": {
  "kernelspec": {
   "display_name": "soroush1",
   "language": "python",
   "name": "soroush1"
  },
  "language_info": {
   "codemirror_mode": {
    "name": "ipython",
    "version": 3
   },
   "file_extension": ".py",
   "mimetype": "text/x-python",
   "name": "python",
   "nbconvert_exporter": "python",
   "pygments_lexer": "ipython3",
   "version": "3.9.18"
  }
 },
 "nbformat": 4,
 "nbformat_minor": 5
}
